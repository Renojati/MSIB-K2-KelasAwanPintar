{
  "nbformat": 4,
  "nbformat_minor": 0,
  "metadata": {
    "colab": {
      "provenance": [],
      "authorship_tag": "ABX9TyOCm19CPIKHRE97g9FZ8LYJ",
      "include_colab_link": true
    },
    "kernelspec": {
      "name": "python3",
      "display_name": "Python 3"
    },
    "language_info": {
      "name": "python"
    }
  },
  "cells": [
    {
      "cell_type": "markdown",
      "metadata": {
        "id": "view-in-github",
        "colab_type": "text"
      },
      "source": [
        "<a href=\"https://colab.research.google.com/github/Renojati/MSIB-K2-KelasAwanPintar/blob/main/Latihan_Handson_3.ipynb\" target=\"_parent\"><img src=\"https://colab.research.google.com/assets/colab-badge.svg\" alt=\"Open In Colab\"/></a>"
      ]
    },
    {
      "cell_type": "code",
      "source": [
        "data_1 = {'NIK' :1990022, 'Nama' : 'Herman', 'Jenis kelamin' : 'L', 'Alamat' : 'Tangerang', 'Divisi' : 'Machinery', 'Jabatan' : 'Manager', 'Gaji pokok' : 10000000}\n",
        "data_2 = {'NIK' : 2001077, 'Nama' : 'Badar', 'Jenis kelamin' : 'L', 'Alamat' : 'Bekasi', 'Divisi' : 'Machinery', 'Jabatan' : 'Staff', 'Gaji pokok' : 7500000}\n",
        "data_3 = {'NIK' : 2002019, 'Nama' : 'Clara', 'Jenis kelamin' : 'P', 'Alamat' : 'Depok', 'Divisi' : 'Compressor', 'Jabatan' : 'Staff', 'Gaji pokok' : 7000000}\n",
        "data_4 = {'NIK' : 2002081, 'Nama' : 'Rista', 'Jenis kelamin' : 'p', 'Alamat' : 'Bogor', 'Divisi' : 'QC', 'Jabatan' : 'Staff', 'Gaji pokok' : 6500000}\n",
        "data_5 = {'NIK' : 2005099, 'Nama' : 'Riani', 'Jenis kelamin' : 'p', 'Alamat' : 'Bekasi', 'Divisi' : 'QC', 'Jabatan' : 'Operator', 'Gaji pokok' : 6000000}\n",
        "data_6 = {'NIK' : 2006104, 'Nama' : 'Afif', 'jenis kelamin' : 'L', 'Alamat' : 'Karawang', 'Divisi' : 'Compressor', 'Jabatan' : 'Operator', 'Gaji pokok' : 5500000}\n",
        "data_7 = {'NIK' : 2006104, 'Nama' : 'Riven', 'Jenis kelamin' : 'L', 'Alamat' : 'Tangerang', 'Divisi' : 'Compressor', 'Jabatan' : 'Operator', 'Gaji pokok' : 5500000}\n",
        "data_8 = {'NIK' : 2008160, 'Nama' : 'Endah', 'Jenis kelamin' : 'L', 'Alamat' : 'jakarta', 'Divisi' : 'Machinery', 'Jabatan' : 'Operator', 'Gaji pokok' : 5000000}\n",
        "print(data_1)\n",
        "print(data_2)\n",
        "print(data_3)\n",
        "print(data_4)\n",
        "print(data_5)\n",
        "print(data_6)\n",
        "print(data_7)\n",
        "print(data_8)"
      ],
      "metadata": {
        "colab": {
          "base_uri": "https://localhost:8080/"
        },
        "id": "fj7ewIm-v_9m",
        "outputId": "6f653146-7d26-4fb3-9293-2c706063b75f"
      },
      "execution_count": 13,
      "outputs": [
        {
          "output_type": "stream",
          "name": "stdout",
          "text": [
            "{'NIK': 1990022, 'Nama': 'Herman', 'Jenis kelamin': 'L', 'Alamat': 'Tangerang', 'Divisi': 'Machinery', 'Jabatan': 'Manager', 'Gaji pokok': 10000000}\n",
            "{'NIK': 2001077, 'Nama': 'Badar', 'Jenis kelamin': 'L', 'Alamat': 'Bekasi', 'Divisi': 'Machinery', 'Jabatan': 'Staff', 'Gaji pokok': 7500000}\n",
            "{'NIK': 2002019, 'Nama': 'Clara', 'Jenis kelamin': 'P', 'Alamat': 'Depok', 'Divisi': 'Compressor', 'Jabatan': 'Staff', 'Gaji pokok': 7000000}\n",
            "{'NIK': 2002081, 'Nama': 'Rista', 'Jenis kelamin': 'p', 'Alamat': 'Bogor', 'Divisi': 'QC', 'Jabatan': 'Staff', 'Gaji pokok': 6500000}\n",
            "{'NIK': 2005099, 'Nama': 'Riani', 'Jenis kelamin': 'p', 'Alamat': 'Bekasi', 'Divisi': 'QC', 'Jabatan': 'Operator', 'Gaji pokok': 6000000}\n",
            "{'NIK': 2006104, 'Nama': 'Afif', 'jenis kelamin': 'L', 'Alamat': 'Karawang', 'Divisi': 'Compressor', 'Jabatan': 'Operator', 'Gaji pokok': 5500000}\n",
            "{'NIK': 2006104, 'Nama': 'Riven', 'Jenis kelamin': 'L', 'Alamat': 'Tangerang', 'Divisi': 'Compressor', 'Jabatan': 'Operator', 'Gaji pokok': 5500000}\n",
            "{'NIK': 2008160, 'Nama': 'Endah', 'Jenis kelamin': 'L', 'Alamat': 'jakarta', 'Divisi': 'Machinery', 'Jabatan': 'Operator', 'Gaji pokok': 5000000}\n"
          ]
        }
      ]
    }
  ]
}